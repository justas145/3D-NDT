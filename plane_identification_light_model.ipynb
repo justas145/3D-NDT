{
 "cells": [
  {
   "cell_type": "code",
   "execution_count": null,
   "metadata": {},
   "outputs": [],
   "source": [
    "# import the necessary libraries\n",
    "import numpy as np\n",
    "import time\n",
    "import itertools\n",
    "import matplotlib.pyplot as plt\n",
    "from sklearn.metrics import confusion_matrix\n",
    "from sklearn.model_selection import train_test_split\n",
    "from sklearn.svm import SVC\n",
    "from sklearn.neighbors import KNeighborsClassifier\n",
    "from sklearn.metrics import accuracy_score\n",
    "import cv2\n",
    "import tensorflow as tf\n",
    "import keras\n",
    "from sklearn.metrics import confusion_matrix\n",
    "from sklearn.model_selection import train_test_split, KFold\n",
    "from tensorflow.keras.utils import to_categorical\n",
    "from tensorflow.keras.models import Sequential\n",
    "from tensorflow.keras.layers import Conv2D, MaxPooling2D, BatchNormalization, LeakyReLU, Dense, Dropout, Flatten\n"
   ]
  },
  {
   "cell_type": "code",
   "execution_count": null,
   "metadata": {},
   "outputs": [],
   "source": [
    "def load_images(file, images_name, images, labels, crop=True):\n",
    "    # file: a text file that has a name of an image and a label\n",
    "    # images_name, images, labels: lists \n",
    "    with open(file) as f:\n",
    "        for line in f:\n",
    "            image_dir = line.strip(\"\\n\").split(\":\")[0]\n",
    "            if \"XY\" in line:\n",
    "                label = 0\n",
    "                image_dir = image_dir\n",
    "            elif \"XZ\" in line:\n",
    "                label = 1\n",
    "                image_dir = f\"Processed_Images_XZ\\{image_dir}\"\n",
    "            elif \"YZ\" in line:\n",
    "                label = 2\n",
    "                image_dir = f\"Processed_Images_YZ\\{image_dir}\"\n",
    "                \n",
    "            # read the image\n",
    "            image = cv2.imread(f\"{image_dir}\")\n",
    "            # resize to 500 x 500\n",
    "            if crop:\n",
    "                image = cv2.resize(image, (500, 500))\n",
    "            # from BGR to gray\n",
    "            image = cv2.cvtColor(image, cv2.COLOR_BGR2GRAY)\n",
    "\n",
    "            # append image and label to the list\n",
    "            images_name.append(image_dir)\n",
    "            images.append(image)\n",
    "            labels.append(label)\n",
    "\n"
   ]
  },
  {
   "cell_type": "code",
   "execution_count": null,
   "metadata": {},
   "outputs": [],
   "source": [
    "images_name, images, labels = [], [], []"
   ]
  },
  {
   "cell_type": "code",
   "execution_count": null,
   "metadata": {},
   "outputs": [],
   "source": [
    "load_images(\"XY_labels.txt\", images_name, images, labels)\n",
    "load_images(\"XZ_labels.txt\", images_name, images, labels)\n",
    "load_images(\"YZ_labels.txt\", images_name, images, labels)"
   ]
  },
  {
   "cell_type": "code",
   "execution_count": null,
   "metadata": {},
   "outputs": [],
   "source": [
    "print(labels.count(2))"
   ]
  },
  {
   "cell_type": "code",
   "execution_count": null,
   "metadata": {},
   "outputs": [],
   "source": [
    "# normalise and transform to np array\n",
    "def normalise_images(images, labels):\n",
    "    # Convert to numpy arrays\n",
    "    images = np.array(images, dtype=np.float32)\n",
    "    labels = np.array(labels)\n",
    "    labels = labels.astype(np.int)\n",
    "\n",
    "    # Normalise the images\n",
    "    images /= 255.0\n",
    "\n",
    "    return images, labels\n"
   ]
  },
  {
   "cell_type": "code",
   "execution_count": null,
   "metadata": {},
   "outputs": [],
   "source": [
    "images_norm, labels = normalise_images(images, labels)\n"
   ]
  },
  {
   "cell_type": "code",
   "execution_count": null,
   "metadata": {},
   "outputs": [],
   "source": [
    "# reshaping\n",
    "images_norm = images_norm.reshape(-1,\n",
    "                                  images_norm.shape[1], images_norm.shape[2], 1)\n",
    "labels = to_categorical(labels, num_classes=len(np.unique(labels)))\n"
   ]
  },
  {
   "cell_type": "code",
   "execution_count": null,
   "metadata": {},
   "outputs": [],
   "source": [
    "# 80-20 train test split\n",
    "X_train, X_test, y_train, y_test = train_test_split(images_norm, labels, train_size=0.8, random_state=42)\n"
   ]
  },
  {
   "cell_type": "code",
   "execution_count": null,
   "metadata": {},
   "outputs": [],
   "source": [
    "# building the CNN model\n",
    "plane_model_light = Sequential()\n",
    "plane_model_light.add(Conv2D(2, kernel_size=(3, 3), activation='linear',\n",
    "                          input_shape=(X_train.shape[1], X_train.shape[2], 1), padding='same'))\n",
    "plane_model_light.add(LeakyReLU(alpha=0.1))\n",
    "plane_model_light.add(MaxPooling2D((2, 2), padding='same'))\n",
    "plane_model_light.add(Conv2D(4, (3, 3), activation='linear', padding='same'))\n",
    "plane_model_light.add(LeakyReLU(alpha=0.1))\n",
    "plane_model_light.add(MaxPooling2D(pool_size=(2, 2), padding='same'))\n",
    "plane_model_light.add(Conv2D(4, (3, 3), activation='linear',\n",
    "                          padding='same', name='just_do_it'))\n",
    "plane_model_light.add(LeakyReLU(alpha=0.1))\n",
    "plane_model_light.add(MaxPooling2D(pool_size=(2, 2), padding='same'))\n",
    "plane_model_light.add(Flatten())\n",
    "plane_model_light.add(Dense(2, activation='linear'))\n",
    "plane_model_light.add(LeakyReLU(alpha=0.1))\n",
    "plane_model_light.add(Dense(y_train.shape[1], activation='softmax'))\n",
    "\n",
    "plane_model_light.compile(loss=keras.losses.categorical_crossentropy,\n",
    "                       optimizer=tf.keras.optimizers.Adam(), metrics=['accuracy'])\n"
   ]
  },
  {
   "cell_type": "code",
   "execution_count": null,
   "metadata": {},
   "outputs": [],
   "source": [
    "# saving untrained model for later use\n",
    "plane_model_light.save(\"plane_model_light_untrained.h5\")\n"
   ]
  },
  {
   "cell_type": "code",
   "execution_count": null,
   "metadata": {},
   "outputs": [],
   "source": [
    "\n",
    "epochs = 20\n",
    "batch_size = 64"
   ]
  },
  {
   "cell_type": "code",
   "execution_count": null,
   "metadata": {},
   "outputs": [],
   "source": [
    "history = plane_model_light.fit(X_train, y_train, epochs=epochs,\n",
    "                                   batch_size=batch_size, validation_split=0.1)\n"
   ]
  },
  {
   "cell_type": "code",
   "execution_count": null,
   "metadata": {},
   "outputs": [],
   "source": [
    "def epoch_vs_performance_plot(history):\n",
    "    # Plot the loss and accuracy curves for training and validation\n",
    "    fig, ax = plt.subplots(2, 1)\n",
    "    ax[0].plot(history.history['loss'], color='b', label=\"Training loss\")\n",
    "    ax[0].plot(history.history['val_loss'], color='r',\n",
    "               label=\"validation loss\", axes=ax[0])\n",
    "    ax[1].set_xlabel(\"Number of epochs\")\n",
    "    legend = ax[0].legend(loc='best', shadow=True)\n",
    "\n",
    "    ax[1].plot(history.history['accuracy'],\n",
    "               color='b', label=\"Training accuracy\")\n",
    "    ax[1].plot(history.history['val_accuracy'],\n",
    "               color='r', label=\"Validation accuracy\")\n",
    "    ax[1].set_xlabel(\"Number of epochs\")\n",
    "    legend = ax[1].legend(loc='best', shadow=True)\n"
   ]
  },
  {
   "cell_type": "code",
   "execution_count": null,
   "metadata": {},
   "outputs": [],
   "source": [
    "def speed_and_acc(model, X_test, y_test):\n",
    "    # show test accuracy and number of images processed per second\n",
    "    start_time = time.time()\n",
    "    test_loss, test_acc = model.evaluate(X_test, y_test)\n",
    "    delta_time = time.time() - start_time\n",
    "    num_img = X_test.shape[0]\n",
    "    print(\"--- %s images per second ---\" % (num_img/delta_time))\n",
    "    print(f\"test acc: {test_acc}\")\n"
   ]
  },
  {
   "cell_type": "code",
   "execution_count": null,
   "metadata": {},
   "outputs": [],
   "source": [
    "epoch_vs_performance_plot(history)\n"
   ]
  },
  {
   "cell_type": "code",
   "execution_count": null,
   "metadata": {},
   "outputs": [],
   "source": [
    "# deciding on the number of epochs\n",
    "epochs = 5"
   ]
  },
  {
   "cell_type": "code",
   "execution_count": null,
   "metadata": {},
   "outputs": [],
   "source": [
    "plane_model_light = keras.models.load_model('plane_model_light_untrained.h5')\n"
   ]
  },
  {
   "cell_type": "code",
   "execution_count": null,
   "metadata": {},
   "outputs": [],
   "source": [
    "history = plane_model_light.fit(X_train, y_train, epochs=epochs,\n",
    "                                batch_size=batch_size, validation_split=0.1)\n"
   ]
  },
  {
   "cell_type": "code",
   "execution_count": null,
   "metadata": {},
   "outputs": [],
   "source": [
    "speed_and_acc(plane_model_light, X_test, y_test)\n"
   ]
  },
  {
   "cell_type": "code",
   "execution_count": null,
   "metadata": {},
   "outputs": [],
   "source": [
    "# Look at confusion matrix\n",
    "\n",
    "def plot_confusion_matrix(cm, classes,\n",
    "                          normalize=False,\n",
    "                          title='Confusion matrix',\n",
    "                          cmap=plt.cm.Blues):\n",
    "    \"\"\"\n",
    "    This function prints and plots the confusion matrix.\n",
    "    Normalization can be applied by setting `normalize=True`.\n",
    "    \"\"\"\n",
    "    plt.imshow(cm, interpolation='nearest', cmap=cmap)\n",
    "    plt.title(title)\n",
    "    plt.colorbar()\n",
    "    tick_marks = np.arange(len(classes))\n",
    "    plt.xticks(tick_marks, classes, rotation=45)\n",
    "    plt.yticks(tick_marks, classes)\n",
    "\n",
    "    if normalize:\n",
    "        cm = cm.astype('float') / cm.sum(axis=1)[:, np.newaxis]\n",
    "\n",
    "    thresh = cm.max() / 2.\n",
    "    for i, j in itertools.product(range(cm.shape[0]), range(cm.shape[1])):\n",
    "        plt.text(j, i, cm[i, j],\n",
    "                 horizontalalignment=\"center\",\n",
    "                 color=\"white\" if cm[i, j] > thresh else \"black\")\n",
    "\n",
    "    plt.tight_layout()\n",
    "    plt.ylabel('True label')\n",
    "    plt.xlabel('Predicted label')\n",
    "\n",
    "\n"
   ]
  },
  {
   "cell_type": "code",
   "execution_count": null,
   "metadata": {},
   "outputs": [],
   "source": [
    "# Predict the values from the test set\n",
    "Y_pred = plane_model_light.predict(X_test)\n",
    "# Convert predictions classes to one hot vectors\n",
    "Y_pred_classes = np.argmax(Y_pred, axis=1)\n",
    "# Convert validation observations to one hot vectors\n",
    "Y_true = np.argmax(y_test, axis=1)\n",
    "# compute the confusion matrix\n",
    "confusion_mtx = confusion_matrix(Y_true, Y_pred_classes)\n",
    "# plot the confusion matrix\n",
    "plot_confusion_matrix(confusion_mtx, classes=[\"XY\", \"XZ\", \"YZ\"])\n"
   ]
  },
  {
   "cell_type": "code",
   "execution_count": null,
   "metadata": {},
   "outputs": [],
   "source": [
    "# loading untrained model\n",
    "plane_model_light = keras.models.load_model('plane_model_light_untrained.h5')\n"
   ]
  },
  {
   "cell_type": "code",
   "execution_count": null,
   "metadata": {},
   "outputs": [],
   "source": [
    "# training the model on the full dataset\n",
    "plane_model_light.fit(images_norm, labels, epochs=epochs, batch_size=batch_size)\n"
   ]
  },
  {
   "cell_type": "code",
   "execution_count": null,
   "metadata": {},
   "outputs": [],
   "source": [
    "# saving the final model\n",
    "plane_model_light.save(\"plane_model_light_FINAL.h5\")\n"
   ]
  },
  {
   "cell_type": "code",
   "execution_count": null,
   "metadata": {},
   "outputs": [],
   "source": []
  }
 ],
 "metadata": {
  "interpreter": {
   "hash": "1b6f61127302c8e325fb6b7b2a15bdad1f74708faa59b57333af7291771c5326"
  },
  "kernelspec": {
   "display_name": "Python 3.9.6 64-bit ('tf_cpu': conda)",
   "language": "python",
   "name": "python3"
  },
  "language_info": {
   "codemirror_mode": {
    "name": "ipython",
    "version": 3
   },
   "file_extension": ".py",
   "mimetype": "text/x-python",
   "name": "python",
   "nbconvert_exporter": "python",
   "pygments_lexer": "ipython3",
   "version": "3.9.6"
  },
  "orig_nbformat": 4
 },
 "nbformat": 4,
 "nbformat_minor": 2
}
