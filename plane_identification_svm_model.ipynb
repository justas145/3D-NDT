{
 "cells": [
  {
   "cell_type": "code",
   "execution_count": null,
   "metadata": {},
   "outputs": [],
   "source": [
    "# importing necessary libraries\n",
    "import numpy as np\n",
    "from sklearn.model_selection import train_test_split\n",
    "from sklearn.svm import SVC\n",
    "from sklearn.neighbors import KNeighborsClassifier\n",
    "from sklearn.metrics import accuracy_score\n",
    "import cv2\n",
    "import time\n",
    "from joblib import dump, load\n"
   ]
  },
  {
   "cell_type": "code",
   "execution_count": null,
   "metadata": {},
   "outputs": [],
   "source": [
    "def load_images(file, images_name, images, labels, crop=True):\n",
    "    # file: a text file that has a name of an image and a label\n",
    "    # images_name, images, labels: lists\n",
    "    with open(file) as f:\n",
    "        for line in f:\n",
    "            image_dir = line.strip(\"\\n\").split(\":\")[0]\n",
    "            if \"XY\" in line:\n",
    "                label = 0\n",
    "                image_dir = image_dir\n",
    "            elif \"XZ\" in line:\n",
    "                label = 1\n",
    "                image_dir = f\"Processed_Images_XZ\\{image_dir}\"\n",
    "            elif \"YZ\" in line:\n",
    "                label = 2\n",
    "                image_dir = f\"Processed_Images_YZ\\{image_dir}\"\n",
    "\n",
    "            # read the image\n",
    "            image = cv2.imread(f\"{image_dir}\")\n",
    "            # resize to 224 x 224\n",
    "            if crop:\n",
    "                image = cv2.resize(image, (224, 224))\n",
    "            # from BGR to gray\n",
    "            image = cv2.cvtColor(image, cv2.COLOR_BGR2GRAY)\n",
    "\n",
    "            # append image and label to the list\n",
    "            images_name.append(image_dir)\n",
    "            images.append(image)\n",
    "            labels.append(label)\n"
   ]
  },
  {
   "cell_type": "code",
   "execution_count": null,
   "metadata": {},
   "outputs": [],
   "source": [
    "images_name, images, labels = [], [], []\n"
   ]
  },
  {
   "cell_type": "code",
   "execution_count": null,
   "metadata": {},
   "outputs": [],
   "source": [
    "# loading in the images\n",
    "load_images(\"XY_labels.txt\", images_name, images, labels)\n",
    "load_images(\"XZ_labels.txt\", images_name, images, labels)\n",
    "load_images(\"YZ_labels.txt\", images_name, images, labels)\n"
   ]
  },
  {
   "cell_type": "code",
   "execution_count": null,
   "metadata": {},
   "outputs": [],
   "source": [
    "# normalise and transform to np array\n",
    "def normalise_images(images, labels):\n",
    "    # Convert to numpy arrays\n",
    "    images = np.array(images, dtype=np.float32)\n",
    "    labels = np.array(labels)\n",
    "    labels = labels.astype(np.int)\n",
    "\n",
    "    # Normalise the images\n",
    "    images /= 255.0\n",
    "\n",
    "    return images, labels\n"
   ]
  },
  {
   "cell_type": "code",
   "execution_count": null,
   "metadata": {},
   "outputs": [],
   "source": [
    "images_norm, labels = normalise_images(images, labels)\n"
   ]
  },
  {
   "cell_type": "code",
   "execution_count": null,
   "metadata": {},
   "outputs": [],
   "source": [
    "# 80-20 train test split\n",
    "x_train, x_test, y_train, y_test = train_test_split(np.array(images_norm), np.array(labels), train_size=0.8,\n",
    "                                                    test_size=0.2, random_state=42)\n",
    "# pre-process into 1-D array\n",
    "x_train = x_train.reshape(-1, 50176)\n",
    "x_test = x_test.reshape(-1, 50176)\n",
    "\n"
   ]
  },
  {
   "cell_type": "code",
   "execution_count": null,
   "metadata": {},
   "outputs": [],
   "source": [
    "# creating and training svm model\n",
    "svm = SVC()  # default parameters: C=1, kernel=\"rbf\"\n",
    "svm.fit(x_train, y_train)  # SVM training\n",
    "\n"
   ]
  },
  {
   "cell_type": "code",
   "execution_count": null,
   "metadata": {},
   "outputs": [],
   "source": [
    "def speed_and_acc(model, X_test, y_test):\n",
    "    # show test accuracy and number of images processed per second\n",
    "    start_time = time.time()\n",
    "    test_acc = accuracy_score(y_test, model.predict(X_test))\n",
    "    delta_time = time.time() - start_time\n",
    "    num_img = X_test.shape[0]\n",
    "    print(\"--- %s images per second ---\" % (num_img/delta_time))\n",
    "    print(f\"test acc: {test_acc}\")\n"
   ]
  },
  {
   "cell_type": "code",
   "execution_count": null,
   "metadata": {},
   "outputs": [],
   "source": [
    "speed_and_acc(svm, x_test, y_test)"
   ]
  },
  {
   "cell_type": "code",
   "execution_count": null,
   "metadata": {},
   "outputs": [],
   "source": [
    "dump(svm, 'SVM_plane_identification_FINAL.joblib')\n"
   ]
  }
 ],
 "metadata": {
  "interpreter": {
   "hash": "1b6f61127302c8e325fb6b7b2a15bdad1f74708faa59b57333af7291771c5326"
  },
  "kernelspec": {
   "display_name": "Python 3.9.6 64-bit ('tf_cpu': conda)",
   "language": "python",
   "name": "python3"
  },
  "language_info": {
   "codemirror_mode": {
    "name": "ipython",
    "version": 3
   },
   "file_extension": ".py",
   "mimetype": "text/x-python",
   "name": "python",
   "nbconvert_exporter": "python",
   "pygments_lexer": "ipython3",
   "version": "3.9.6"
  },
  "orig_nbformat": 4
 },
 "nbformat": 4,
 "nbformat_minor": 2
}
